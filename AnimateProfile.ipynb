{
 "cells": [
  {
   "cell_type": "code",
   "execution_count": 1,
   "metadata": {},
   "outputs": [],
   "source": [
    "import numpy as np\n",
    "import matplotlib.pyplot as plt\n",
    "import scipy.optimize\n",
    "import scipy.stats\n",
    "import os\n"
   ]
  },
  {
   "cell_type": "code",
   "execution_count": 2,
   "metadata": {},
   "outputs": [],
   "source": [
    "def tanh_model(xs, x0, delta, me):\n",
    "    return np.abs(me*np.tanh(np.pi*(xs-x0)/delta))\n",
    "\n",
    "def fit_domain_wall(xs, magzs):\n",
    "    (fit_x0, fit_delta, fit_me), res = scipy.optimize.curve_fit(tanh_model, xs, magzs, p0=[240, 30, 1])\n",
    "    return (fit_x0, fit_delta, fit_me)\n",
    "\n"
   ]
  },
  {
   "cell_type": "code",
   "execution_count": 3,
   "metadata": {},
   "outputs": [
    {
     "name": "stdout",
     "output_type": "stream",
     "text": [
      "-9.729843584642616\n"
     ]
    }
   ],
   "source": [
    "interface_width_fixup = 1.7011094153574284 - (413.963767 - 402.532814) # actual interface width vs interface width in ASD calculation\n",
    "print(interface_width_fixup)\n",
    "def fix_interface_width(profile):\n",
    "    zmin = np.min(profile[:,0])\n",
    "    zmax = np.max(profile[:,0])\n",
    "    zmiddle = (zmax + zmin)/2\n",
    "    profile[profile[:,0] > zmiddle,0] += interface_width_fixup\n",
    "    return profile\n"
   ]
  },
  {
   "cell_type": "code",
   "execution_count": 6,
   "metadata": {},
   "outputs": [
    {
     "data": {
      "image/png": "[encoded data removed]",
      "text/plain": [
       "<Figure size 432x288 with 1 Axes>"
      ]
     },
     "metadata": {
      "needs_background": "light"
     },
     "output_type": "display_data"
    },
    {
     "name": "stderr",
     "output_type": "stream",
     "text": [
      "MovieWriter ffmpeg unavailable; using Pillow instead.\n"
     ]
    },
    {
     "name": "stdout",
     "output_type": "stream",
     "text": [
      "domain wall width [nm]:  2.861417417616038\n",
      "domain wall width [nm]:  6.604635529606031\n",
      "domain wall width [nm]:  9.59446014529365\n",
      "domain wall width [nm]:  5.706294347484084\n",
      "domain wall width [nm]:  11.796319472657139\n",
      "domain wall width [nm]:  13.374586477767524\n",
      "domain wall width [nm]:  11.495211668372287\n",
      "domain wall width [nm]:  7.257572073203444\n",
      "domain wall width [nm]:  8.501391520208486\n",
      "domain wall width [nm]:  11.254152235963689\n",
      "domain wall width [nm]:  14.59666684779885\n",
      "domain wall width [nm]:  20.38158134654915\n",
      "domain wall width [nm]:  24.159493533823493\n",
      "domain wall width [nm]:  20.742393231910988\n",
      "domain wall width [nm]:  24.017434953304132\n",
      "domain wall width [nm]:  19.072147857145417\n",
      "domain wall width [nm]:  14.309411667691682\n",
      "domain wall width [nm]:  17.591212954999165\n",
      "domain wall width [nm]:  20.710702785371325\n",
      "domain wall width [nm]:  25.237728972166966\n",
      "domain wall width [nm]:  22.691548973882135\n",
      "domain wall width [nm]:  20.33902697866502\n",
      "domain wall width [nm]:  20.664768766178053\n",
      "domain wall width [nm]:  24.918704311055052\n",
      "domain wall width [nm]:  18.270842601950676\n",
      "domain wall width [nm]:  21.055372492103974\n",
      "domain wall width [nm]:  25.441339609910386\n",
      "domain wall width [nm]:  15.467540785775888\n",
      "domain wall width [nm]:  23.455261174555588\n",
      "domain wall width [nm]:  22.239650686754203\n",
      "domain wall width [nm]:  16.482656883918267\n",
      "domain wall width [nm]:  17.825769122806506\n",
      "domain wall width [nm]:  33.278613299770775\n",
      "domain wall width [nm]:  31.805886296898688\n",
      "domain wall width [nm]:  23.640502069874223\n",
      "domain wall width [nm]:  25.08738970265697\n",
      "domain wall width [nm]:  27.285163442200215\n",
      "domain wall width [nm]:  28.52359450165385\n",
      "domain wall width [nm]:  20.78674411924052\n",
      "domain wall width [nm]:  20.074883996627864\n",
      "domain wall width [nm]:  18.233166834713064\n",
      "domain wall width [nm]:  29.78709641248855\n",
      "domain wall width [nm]:  34.09951157063177\n",
      "domain wall width [nm]:  34.077360868935386\n",
      "domain wall width [nm]:  36.760561949724696\n",
      "domain wall width [nm]:  36.18869169203378\n",
      "domain wall width [nm]:  36.25359943711918\n",
      "domain wall width [nm]:  38.683269547573005\n",
      "domain wall width [nm]:  33.57598701208662\n",
      "domain wall width [nm]:  35.055737348758775\n",
      "domain wall width [nm]:  38.5740633018114\n",
      "domain wall width [nm]:  44.20684494349704\n",
      "domain wall width [nm]:  45.7192753679269\n",
      "domain wall width [nm]:  45.2728043608444\n",
      "domain wall width [nm]:  38.12872901241362\n",
      "domain wall width [nm]:  37.83721590398268\n",
      "domain wall width [nm]:  42.712588288638656\n",
      "domain wall width [nm]:  41.85011466993385\n",
      "domain wall width [nm]:  40.39235649616016\n",
      "domain wall width [nm]:  33.08283205164973\n",
      "domain wall width [nm]:  38.261232542235305\n",
      "domain wall width [nm]:  51.40341315381048\n",
      "domain wall width [nm]:  49.95586741308431\n",
      "domain wall width [nm]:  55.38205922122464\n",
      "domain wall width [nm]:  54.49951348590214\n",
      "domain wall width [nm]:  55.38864223380984\n",
      "domain wall width [nm]:  56.964790087559145\n",
      "domain wall width [nm]:  54.85513575485129\n",
      "domain wall width [nm]:  56.50033386191015\n",
      "domain wall width [nm]:  46.93327816532136\n",
      "domain wall width [nm]:  41.49075170172213\n",
      "domain wall width [nm]:  44.8424207764326\n",
      "domain wall width [nm]:  45.51007036084727\n",
      "domain wall width [nm]:  44.25629165506412\n",
      "domain wall width [nm]:  37.58175014722627\n",
      "domain wall width [nm]:  39.31167914976584\n",
      "domain wall width [nm]:  13.449511390367753\n",
      "domain wall width [nm]:  11.839280427659352\n",
      "domain wall width [nm]:  7.758809733081971\n",
      "domain wall width [nm]:  12.131364967290564\n",
      "domain wall width [nm]:  20.765683317557627\n",
      "domain wall width [nm]:  25.604164693734138\n",
      "domain wall width [nm]:  34.466448125830205\n",
      "domain wall width [nm]:  36.11591366012163\n",
      "domain wall width [nm]:  34.6938806869504\n",
      "domain wall width [nm]:  33.546939616476706\n",
      "domain wall width [nm]:  28.192355685557402\n",
      "domain wall width [nm]:  11.092842567779751\n",
      "domain wall width [nm]:  2.9818416879735494\n",
      "domain wall width [nm]:  11.01437335869037\n",
      "domain wall width [nm]:  15.105859600992613\n",
      "domain wall width [nm]:  26.65882120188564\n",
      "domain wall width [nm]:  8.024088387002948\n",
      "domain wall width [nm]:  6.519715485682591\n",
      "domain wall width [nm]:  6.065007522685469\n",
      "domain wall width [nm]:  7.175603423665565\n",
      "domain wall width [nm]:  2.4470160054319097\n",
      "domain wall width [nm]:  9.312899797214136\n",
      "domain wall width [nm]:  8.79447154931709\n",
      "domain wall width [nm]:  10.591516864121878\n"
     ]
    }
   ],
   "source": [
    "from matplotlib.animation import FuncAnimation\n",
    "\n",
    "# output_dir = 'scratch/CoRuCo/temp_sweep/0K_nowall/output'\n",
    "# output_dir = 'scratch/CoRuCo/temp_sweep/Ru1_0K/output/'\n",
    "output_dir = 'scratch/CoRuCo/temp_sweep/no3_nowall/1000/output'\n",
    "\n",
    "prof = np.genfromtxt(os.path.join(output_dir, \"profile.out0\"))\n",
    "prof = fix_interface_width(prof)\n",
    "\n",
    "fig, ax = plt.subplots()\n",
    "ln, = ax.plot(prof[:,0], prof[:,1], linestyle='', marker='.')\n",
    "\n",
    "fit_xs = np.array(sorted(prof[:,0]))\n",
    "ln_fit, = ax.plot(fit_xs, tanh_model(fit_xs, 240, 30, 1))\n",
    "ax.set_ylim(-1, 1)\n",
    "\n",
    "scale = 2.47e-1\n",
    "\n",
    "\n",
    "widths = []\n",
    "\n",
    "def init():\n",
    "    return ln,\n",
    "\n",
    "def update(i):\n",
    "    prof = np.genfromtxt(os.path.join(output_dir, \"profile.out{}\".format(i)))\n",
    "    prof = fix_interface_width(prof)\n",
    "    # spins = np.genfromtxt(os.path.join(expdir, \"lattice.out{}\".format(i)))\n",
    "    # xs = pos[:,0]\n",
    "    # ys = spins[:,2]\n",
    "    # bin_means, bin_edges, binnumber = scipy.stats.binned_statistic(xs, ys, bins=200)\n",
    "    # scale = 2.47e-1\n",
    "    x0, delta, ms = fit_domain_wall(prof[:,0], prof[:,1])\n",
    "    print(\"domain wall width [nm]: \", scale*delta)\n",
    "    widths.append(scale*delta)\n",
    "    ln.set_data(prof[:,0], prof[:,1])\n",
    "\n",
    "    ln_fit.set_data(fit_xs, tanh_model(fit_xs, x0, delta, ms))\n",
    "\n",
    "    return ln,\n",
    "\n",
    "n = 100\n",
    "ani = FuncAnimation(fig, update, frames=n,\n",
    "                    init_func=init, blit=True)\n",
    "plt.show()\n",
    "ani.save(\"animation.gif\")\n",
    "# spins = np.genfromtxt(os.path.join(expdir, \"lattice.out{}\".format(n-1)))\n",
    "# xs = pos[:,0]\n",
    "# ys = spins[:,2]\n",
    "# x0, delta, ms = fit_domain_wall(xs, ys)\n",
    "# print(\"domain wall width [nm]: \", scale*delta)\n"
   ]
  },
  {
   "cell_type": "code",
   "execution_count": null,
   "metadata": {},
   "outputs": [],
   "source": [
    "i = 0\n",
    "prof = np.genfromtxt(os.path.join(output_dir, \"profile.out{}\".format(i)))\n",
    "np.average(prof[:,1])\n"
   ]
  },
  {
   "cell_type": "code",
   "execution_count": null,
   "metadata": {},
   "outputs": [],
   "source": [
    "scaled_xs = prof[:,0]*scale\n",
    "plt.figure(figsize=(5,3), dpi=400)\n",
    "plt.scatter(scaled_xs, prof[:,1])\n",
    "plt.ylim(-1, 1)\n",
    "# plt.xlim(40,80)\n",
    "plt.xlabel(\"z [nm]\")\n",
    "plt.ylabel(\"M/|M|\")\n",
    "plt.title(\"magnetization profile - 1 Ru layer, 0 K\")\n"
   ]
  },
  {
   "cell_type": "code",
   "execution_count": null,
   "metadata": {},
   "outputs": [],
   "source": []
  }
 ],
 "metadata": {
  "kernelspec": {
   "display_name": "Python 3",
   "language": "python",
   "name": "python3"
  },
  "language_info": {
   "codemirror_mode": {
    "name": "ipython",
    "version": 3
   },
   "file_extension": ".py",
   "mimetype": "text/x-python",
   "name": "python",
   "nbconvert_exporter": "python",
   "pygments_lexer": "ipython3",
   "version": "3.9.2"
  },
  "orig_nbformat": 4
 },
 "nbformat": 4,
 "nbformat_minor": 2
}
